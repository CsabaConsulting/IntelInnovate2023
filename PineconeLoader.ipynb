{
 "cells": [
  {
   "cell_type": "markdown",
   "id": "d6cdd530-35f5-4f41-909a-b4b3ed0842b3",
   "metadata": {},
   "source": [
    "Prerequisite: create an index with 1536 dimensions - in case you also use OpenAI's 'text-embedding-ada-002' for embedding"
   ]
  },
  {
   "cell_type": "code",
   "execution_count": 1,
   "id": "3c181b1e-12ef-42f7-bf14-5f76d42d9586",
   "metadata": {
    "tags": []
   },
   "outputs": [],
   "source": [
    "import os\n",
    "import openai\n",
    "import json"
   ]
  },
  {
   "cell_type": "code",
   "execution_count": 2,
   "id": "e96607ea-86f9-407c-8719-4d46f340664d",
   "metadata": {
    "tags": []
   },
   "outputs": [],
   "source": [
    "openai.api_key = os.getenv(\"OPENAI_API_KEY\") or \"OPENAI_API_KEY\"\n",
    "# openai.Engine.list()"
   ]
  },
  {
   "cell_type": "code",
   "execution_count": 3,
   "id": "0869f426-0e42-4c5d-bb39-ed01413deafe",
   "metadata": {
    "tags": []
   },
   "outputs": [],
   "source": [
    "cnvrg = []\n",
    "with open(\"cnvrg_docs.json\", \"r\", encoding=\"utf-8\") as input_file:\n",
    "    input_json = json.load(input_file)\n",
    "    cnvrg = input_json[\"messages\"]"
   ]
  },
  {
   "cell_type": "code",
   "execution_count": 4,
   "id": "9ff1f5dd-f5ab-46c5-b0cd-8cedfba20c4f",
   "metadata": {
    "tags": []
   },
   "outputs": [
    {
     "data": {
      "text/plain": [
       "486"
      ]
     },
     "execution_count": 4,
     "metadata": {},
     "output_type": "execute_result"
    }
   ],
   "source": [
    "len(cnvrg)"
   ]
  },
  {
   "cell_type": "code",
   "execution_count": 65,
   "id": "832627f5-cbcb-496d-acfa-acc3cba0ae98",
   "metadata": {
    "tags": []
   },
   "outputs": [],
   "source": [
    "qna = []\n",
    "switchup = 0\n",
    "for qa in cnvrg:\n",
    "    q = qa[\"content\"].strip()\n",
    "    a = qa[\"response\"].strip()\n",
    "    if not q or not a:\n",
    "        continue\n",
    "    if (a.startswith(\"How \") or a.startswith(\"What \") or a.startswith(\"Who \") or a.startswith(\"Can \") or a.startswith(\"Where \") or a.startswith(\"Are \")) and not (\n",
    "        q.startswith(\"How \") or q.startswith(\"What \") or q.startswith(\"Who \") or q.startswith(\"Can \") or q.startswith(\"Where \") or q.startswith(\"Are \")\n",
    "    ):\n",
    "        q, a = a, q\n",
    "        switchup += 1\n",
    "    qna.append((q, a))"
   ]
  },
  {
   "cell_type": "code",
   "execution_count": 66,
   "id": "2fb942d1-c8d5-4e0b-b9fe-d3a262a3b69f",
   "metadata": {
    "tags": []
   },
   "outputs": [
    {
     "data": {
      "text/plain": [
       "431"
      ]
     },
     "execution_count": 66,
     "metadata": {},
     "output_type": "execute_result"
    }
   ],
   "source": [
    "switchup"
   ]
  },
  {
   "cell_type": "code",
   "execution_count": 22,
   "id": "61de4b3e-8969-4925-8c72-10cca4e45ad3",
   "metadata": {
    "tags": []
   },
   "outputs": [],
   "source": [
    "embed_model = \"text-embedding-ada-002\""
   ]
  },
  {
   "cell_type": "code",
   "execution_count": 72,
   "id": "42a6c576-9dc0-4c9b-b013-2b1b47d7c2f8",
   "metadata": {
    "tags": []
   },
   "outputs": [],
   "source": [
    "qs = [q for q, a in qna]"
   ]
  },
  {
   "cell_type": "code",
   "execution_count": 73,
   "id": "17dbac19-bce0-452d-b4b2-624379b1234d",
   "metadata": {
    "tags": []
   },
   "outputs": [],
   "source": [
    "res = openai.Embedding.create(input=qs, engine=embed_model)"
   ]
  },
  {
   "cell_type": "code",
   "execution_count": 74,
   "id": "9b28835f-e621-4e58-bbaf-f4acc55e12b5",
   "metadata": {
    "tags": []
   },
   "outputs": [
    {
     "data": {
      "text/plain": [
       "dict_keys(['object', 'data', 'model', 'usage'])"
      ]
     },
     "execution_count": 74,
     "metadata": {},
     "output_type": "execute_result"
    }
   ],
   "source": [
    "res.keys()  # Executes the lazy query"
   ]
  },
  {
   "cell_type": "code",
   "execution_count": 75,
   "id": "2419d401-fa66-4735-b8af-f82d6bfbc44b",
   "metadata": {
    "tags": []
   },
   "outputs": [
    {
     "data": {
      "text/plain": [
       "464"
      ]
     },
     "execution_count": 75,
     "metadata": {},
     "output_type": "execute_result"
    }
   ],
   "source": [
    "len(res['data'])"
   ]
  },
  {
   "cell_type": "code",
   "execution_count": 41,
   "id": "3aee39dc-d260-4e39-86d2-7883be0b4238",
   "metadata": {
    "tags": []
   },
   "outputs": [],
   "source": [
    "!pip install -qU \"pinecone-client[grpc]\"==2.2.1 tqdm"
   ]
  },
  {
   "cell_type": "code",
   "execution_count": 42,
   "id": "e0985e3d-be3b-4866-a3d0-db9360602a27",
   "metadata": {
    "tags": []
   },
   "outputs": [],
   "source": [
    "import tqdm\n",
    "import pinecone\n",
    "\n",
    "# initialize connection to pinecone (get API key at app.pinecone.io)\n",
    "api_key = os.getenv(\"PINECONE_API_KEY\") or \"PINECONE_API_KEY\"\n",
    "# find your environment next to the api key in pinecone console\n",
    "env = os.getenv(\"PINECONE_ENVIRONMENT\") or \"gcp-starter\""
   ]
  },
  {
   "cell_type": "code",
   "execution_count": 43,
   "id": "312088ab-518e-4b6a-be22-c3c384087ec3",
   "metadata": {
    "tags": []
   },
   "outputs": [
    {
     "data": {
      "text/plain": [
       "WhoAmIResponse(username=None, user_label=None, projectname='14d2815')"
      ]
     },
     "execution_count": 43,
     "metadata": {},
     "output_type": "execute_result"
    }
   ],
   "source": [
    "pinecone.init(api_key=api_key, environment=env)\n",
    "pinecone.whoami()"
   ]
  },
  {
   "cell_type": "code",
   "execution_count": 44,
   "id": "0bcd5716-147c-4576-8f14-81dfccd5d000",
   "metadata": {
    "tags": []
   },
   "outputs": [
    {
     "data": {
      "text/plain": [
       "{'dimension': 1536,\n",
       " 'index_fullness': 0.0,\n",
       " 'namespaces': {'': {'vector_count': 0}},\n",
       " 'total_vector_count': 0}"
      ]
     },
     "execution_count": 44,
     "metadata": {},
     "output_type": "execute_result"
    }
   ],
   "source": [
    "index_name = 'cnvrg-openai'\n",
    "# connect to index\n",
    "index = pinecone.GRPCIndex(index_name)\n",
    "# view index stats\n",
    "index.describe_index_stats()"
   ]
  },
  {
   "cell_type": "code",
   "execution_count": 76,
   "id": "0c06a629-1ce7-4fab-a4d8-abba29f43d3f",
   "metadata": {
    "tags": []
   },
   "outputs": [],
   "source": [
    "to_upsert = []\n",
    "for idx, qa in enumerate(qna):\n",
    "    to_upsert.append((str(idx), res['data'][idx]['embedding'], dict(question=qa[0], answer=qa[1])))"
   ]
  },
  {
   "cell_type": "code",
   "execution_count": 77,
   "id": "12eaec4e-88f8-46f7-9aed-a37952e9b462",
   "metadata": {
    "tags": []
   },
   "outputs": [],
   "source": [
    "idx = 0\n",
    "upload_batch_size = 20\n",
    "# 2MB max request size!\n",
    "while idx < len(to_upsert):\n",
    "    index.upsert(vectors=to_upsert[idx:idx+upload_batch_size])\n",
    "    idx += upload_batch_size"
   ]
  },
  {
   "cell_type": "code",
   "execution_count": 81,
   "id": "88dd70c1-5cdd-4285-9c1b-02ea93eb7d2a",
   "metadata": {
    "tags": []
   },
   "outputs": [
    {
     "data": {
      "text/plain": [
       "{'dimension': 1536,\n",
       " 'index_fullness': 0.00464,\n",
       " 'namespaces': {'': {'vector_count': 464}},\n",
       " 'total_vector_count': 464}"
      ]
     },
     "execution_count": 81,
     "metadata": {},
     "output_type": "execute_result"
    }
   ],
   "source": [
    "index.describe_index_stats()"
   ]
  },
  {
   "cell_type": "code",
   "execution_count": 82,
   "id": "f189b46b-13ab-4909-a459-f3434d4b85fe",
   "metadata": {
    "tags": []
   },
   "outputs": [],
   "source": [
    "res = openai.Embedding.create(\n",
    "    input=[\"Visual Studio Code\"],\n",
    "    engine=embed_model\n",
    ")\n",
    "\n",
    "# retrieve from Pinecone\n",
    "xq = res['data'][0]['embedding']\n",
    "\n",
    "# get relevant contexts (including the questions)\n",
    "res = index.query(xq, top_k=5, include_metadata=True)"
   ]
  },
  {
   "cell_type": "code",
   "execution_count": null,
   "id": "334642d7-8ffa-44d3-9818-4cdab5f3aca6",
   "metadata": {
    "tags": []
   },
   "outputs": [],
   "source": [
    "res"
   ]
  },
  {
   "cell_type": "code",
   "execution_count": 71,
   "id": "5659cee4-f4f1-46ea-9d18-0ef597987007",
   "metadata": {
    "tags": []
   },
   "outputs": [
    {
     "data": {
      "text/plain": []
     },
     "execution_count": 71,
     "metadata": {},
     "output_type": "execute_result"
    }
   ],
   "source": [
    "# index.delete(ids=[str(i) for i in range(len(qna))])"
   ]
  }
 ],
 "metadata": {
  "kernelspec": {
   "display_name": "Python 3 (ipykernel)",
   "language": "python",
   "name": "python3"
  },
  "language_info": {
   "codemirror_mode": {
    "name": "ipython",
    "version": 3
   },
   "file_extension": ".py",
   "mimetype": "text/x-python",
   "name": "python",
   "nbconvert_exporter": "python",
   "pygments_lexer": "ipython3",
   "version": "3.9.13"
  }
 },
 "nbformat": 4,
 "nbformat_minor": 5
}
